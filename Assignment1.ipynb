{
 "cells": [
  {
   "cell_type": "markdown",
   "metadata": {},
   "source": [
    "# Answerns Tasks: \n",
    "1.1:Install Jupyter notebook and run the first program and share the screenshot of the output\n",
    "\n",
    "1.2:Write a program which will find all such numbers which are divisible by 7 but are not a multiple\n",
    "of 5, between 2000 and 3200 (both included). The numbers obtained should be printed in a\n",
    "comma-separated sequence on a single line\"\n",
    "\n",
    "#1.1 & 1.2 is same provide below:"
   ]
  },
  {
   "cell_type": "code",
   "execution_count": 28,
   "metadata": {},
   "outputs": [
    {
     "name": "stdout",
     "output_type": "stream",
     "text": [
      "[2002, 2009, 2016, 2023, 2037, 2044, 2051, 2058, 2072, 2079, 2086, 2093, 2107, 2114, 2121, 2128, 2142, 2149, 2156, 2163, 2177, 2184, 2191, 2198, 2212, 2219, 2226, 2233, 2247, 2254, 2261, 2268, 2282, 2289, 2296, 2303, 2317, 2324, 2331, 2338, 2352, 2359, 2366, 2373, 2387, 2394, 2401, 2408, 2422, 2429, 2436, 2443, 2457, 2464, 2471, 2478, 2492, 2499, 2506, 2513, 2527, 2534, 2541, 2548, 2562, 2569, 2576, 2583, 2597, 2604, 2611, 2618, 2632, 2639, 2646, 2653, 2667, 2674, 2681, 2688, 2702, 2709, 2716, 2723, 2737, 2744, 2751, 2758, 2772, 2779, 2786, 2793, 2807, 2814, 2821, 2828, 2842, 2849, 2856, 2863, 2877, 2884, 2891, 2898, 2912, 2919, 2926, 2933, 2947, 2954, 2961, 2968, 2982, 2989, 2996, 3003, 3017, 3024, 3031, 3038, 3052, 3059, 3066, 3073, 3087, 3094, 3101, 3108, 3122, 3129, 3136, 3143, 3157, 3164, 3171, 3178, 3192, 3199]\n"
     ]
    }
   ],
   "source": [
    "a= list(range(2000,3201))\n",
    "b=[]\n",
    "#print(a)\n",
    "\n",
    "for i in a:\n",
    "    if ((i%7==0) and (i%5!=0)):\n",
    "        b.append(i)\n",
    "  #  print(i)\n",
    "print(b)"
   ]
  },
  {
   "cell_type": "markdown",
   "metadata": {},
   "source": [
    "# 1.3.Write a Python program to accept the user's first and last name and then getting them printed in\n",
    "the the reverse order with a space between first name and last name."
   ]
  },
  {
   "cell_type": "code",
   "execution_count": 3,
   "metadata": {},
   "outputs": [
    {
     "name": "stdout",
     "output_type": "stream",
     "text": [
      "What is your first nameSush\n",
      "What is your last namePedy\n",
      "hsuS   ydeP\n",
      "What is your first nameSwati\n",
      "What is your last nameJoshi\n",
      "Joshi   Swati\n"
     ]
    }
   ],
   "source": [
    "#Answer Tasks: 1.3 - 1st method\n",
    "\n",
    "a= str(input(\"What is your first name\"))\n",
    "b= str(input(\"What is your last name\"))\n",
    "s=a[::-1]\n",
    "d=b[::-1]\n",
    "\n",
    "print(s, \" \" ,d)\n",
    "\n",
    "## 2nd r method\n",
    "a= str(input(\"What is your first name\"))\n",
    "b= str(input(\"What is your last name\"))\n",
    "print(b, \" \" ,a)\n"
   ]
  },
  {
   "cell_type": "markdown",
   "metadata": {},
   "source": [
    "# 1.4:Write a Python program to find the volume of a sphere with diameter 12 cm.\n",
    "Formula: V=4/3 * π * r3"
   ]
  },
  {
   "cell_type": "code",
   "execution_count": 3,
   "metadata": {},
   "outputs": [
    {
     "name": "stdout",
     "output_type": "stream",
     "text": [
      "905.142857142857\n"
     ]
    }
   ],
   "source": [
    "#Answer Tasks: 1.4\n",
    "dia=12\n",
    "r=dia/2\n",
    "pi=22/7\n",
    "\n",
    "vol = ((4/3)*pi*(r**3))\n",
    "print(vol)\n"
   ]
  },
  {
   "cell_type": "markdown",
   "metadata": {},
   "source": [
    "# Task 2 Started ####"
   ]
  },
  {
   "cell_type": "markdown",
   "metadata": {},
   "source": [
    "# TASK 2.1 Write a program which accepts a sequence of comma-separated numbers from console and\n",
    "generate a list.\n"
   ]
  },
  {
   "cell_type": "code",
   "execution_count": 8,
   "metadata": {},
   "outputs": [
    {
     "name": "stdout",
     "output_type": "stream",
     "text": [
      "Please enter a list of comma seperated numbers2,3,5\n",
      "['2', ',', '3', ',', '5']\n",
      "Please enter number23344\n",
      "Please enter number22\n",
      "Please enter number44\n",
      "[23344, 22, 44]\n",
      "Please enter a list number without comma258\n",
      "['2', '5', '8']\n"
     ]
    }
   ],
   "source": [
    "#Method 1\n",
    "a=list(input('Please enter a list of comma seperated numbers'))\n",
    "print(a)\n",
    "\n",
    "#### Method 2\n",
    "a=[]\n",
    "for i in range(3): \n",
    "    j=int(input(\"Please enter number\")) \n",
    "    a.append(j) \n",
    "print(a)\n",
    "\n",
    "#Method 3\n",
    "\n",
    "a=list(input('Please enter a list number without comma')) \n",
    "print(a)"
   ]
  },
  {
   "cell_type": "markdown",
   "metadata": {},
   "source": [
    "# 2.3 ==.\n",
    "Write a Python program to reverse a word after accepting the input from the user.\n",
    "\n",
    "You can also refer answer :#Answer Tasks: 1.3 above\n"
   ]
  },
  {
   "cell_type": "code",
   "execution_count": 1,
   "metadata": {},
   "outputs": [
    {
     "name": "stdout",
     "output_type": "stream",
     "text": [
      "Please give me 1 worldSush\n",
      "hsuS\n"
     ]
    }
   ],
   "source": [
    "a=input(\"Please give me 1 world\")\n",
    "b=list(a)\n",
    "b.reverse()\n",
    "b\n",
    "m=''\n",
    "for i in b:\n",
    "    m+=i\n",
    "print(m)  \n",
    "    "
   ]
  },
  {
   "cell_type": "markdown",
   "metadata": {},
   "source": [
    "# 2.2 Create the below pattern using nested for loop in Python"
   ]
  },
  {
   "cell_type": "code",
   "execution_count": 1,
   "metadata": {},
   "outputs": [
    {
     "name": "stdout",
     "output_type": "stream",
     "text": [
      "* \n",
      "* * \n",
      "* * * \n",
      "* * * * \n",
      "* * * * * \n",
      "* * * * \n",
      "* * * \n",
      "* * \n",
      "* \n"
     ]
    }
   ],
   "source": [
    "    for i in range(5):\n",
    "        for j in range(i+1):\n",
    "            print(\"*\",end=\" \")\n",
    "        print()\n",
    "    for ii in range(4,0,-1):\n",
    "        for jj in range(ii):\n",
    "            print(\"*\",end=\" \")\n",
    "        print()"
   ]
  },
  {
   "cell_type": "markdown",
   "metadata": {},
   "source": [
    "# 2.4.\n",
    "Write a Python Program to print the given string in the format specified in the sample output.\n",
    "WE, THE PEOPLE OF INDIA, having solemnly resolved to constitute India into a\n",
    "SOVEREIGN, SOCIALIST, SECULAR, DEMOCRATIC REPUBLIC and to secure to all\n",
    "its citizens"
   ]
  },
  {
   "cell_type": "code",
   "execution_count": 1,
   "metadata": {},
   "outputs": [
    {
     "name": "stdout",
     "output_type": "stream",
     "text": [
      "WE, THE PEOPLE OF INDIA,\n",
      " having solemnly resolved to constitute India into a SOVEREIGN,! \n",
      " SOCIALIST, SECULAR, DEMOCRATIC REPUBLIC \n",
      " and to secure to all its citizens\n"
     ]
    }
   ],
   "source": [
    "s='''WE, THE PEOPLE OF INDIA,\\n having solemnly resolved to constitute India into a SOVEREIGN,! \\n SOCIALIST, SECULAR, DEMOCRATIC REPUBLIC \\n and to secure to all its citizens'''\n",
    "print(s)"
   ]
  }
 ],
 "metadata": {
  "kernelspec": {
   "display_name": "Python 3",
   "language": "python",
   "name": "python3"
  },
  "language_info": {
   "codemirror_mode": {
    "name": "ipython",
    "version": 3
   },
   "file_extension": ".py",
   "mimetype": "text/x-python",
   "name": "python",
   "nbconvert_exporter": "python",
   "pygments_lexer": "ipython3",
   "version": "3.7.4"
  }
 },
 "nbformat": 4,
 "nbformat_minor": 2
}
